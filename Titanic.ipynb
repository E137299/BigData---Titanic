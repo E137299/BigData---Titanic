{
  "cells": [
    {
      "cell_type": "markdown",
      "metadata": {
        "id": "BqNEYendjY8G"
      },
      "source": [
        "# Titanic Dataset\n",
        "\n",
        "|Variable|Definition|Key|\n",
        "|---|---|---|\n",
        "|Survived|Survival|0 = No, 1 = Yes|\n",
        "|Pclass|Ticket class|1 = 1st, 2 = 2nd, 3 = 3rd|\n",
        "|Name|Name||\n",
        "|Sex|Sex||\n",
        "|Age|Age in years\t||\n",
        "|SibSp|# of siblings / spouses aboard the Titanic||\n",
        "|Parch|# of parents / children aboard the Titanic||\n",
        "|Ticket|Ticket number||\n",
        "|Fare|Passenger fare||\n",
        "|Cabin|Cabin number||\n",
        "|Embarked|Port of Embarkation|C = Cherbourg, Q = Queenstown, S = Southampton|"
      ]
    },
    {
      "cell_type": "markdown",
      "metadata": {
        "id": "kJQY0GC1jPc5"
      },
      "source": [
        "## Import Libraries and Data\n",
        "Import Necessary Libraries"
      ]
    },
    {
      "cell_type": "code",
      "execution_count": 1,
      "metadata": {
        "id": "fKTZg21nYWEN"
      },
      "outputs": [
        {
          "name": "stdout",
          "output_type": "stream",
          "text": [
            "done\n"
          ]
        }
      ],
      "source": [
        "# Libraries to help with reading and manipulating data\n",
        "import numpy as np\n",
        "import pandas as pd\n",
        "\n",
        "# Libraries to help with data visualization\n",
        "import matplotlib.pyplot as plt\n",
        "import seaborn as sns\n",
        "\n",
        "# to restrict the float value to 3 decimal places\n",
        "pd.set_option('display.float_format', lambda x: '%.3f' % x)\n",
        "\n"
      ]
    },
    {
      "cell_type": "markdown",
      "metadata": {
        "id": "tDiNrcuyjVix"
      },
      "source": [
        "Import The Dataset"
      ]
    },
    {
      "cell_type": "code",
      "execution_count": 2,
      "metadata": {
        "colab": {
          "base_uri": "https://localhost:8080/",
          "height": 416
        },
        "id": "v0v2j5K0YfQ6",
        "outputId": "7e237400-0652-407a-e76e-b5bb7c0d67a5"
      },
      "outputs": [],
      "source": [
        "#import data as a pandas dataframe\n",
        "\n",
        "# Access the .csv file in Google Drive folder. The file path must be correct\n",
        "data = pd.read_csv('Titanic_Dataset.csv')"
      ]
    },
    {
      "cell_type": "markdown",
      "metadata": {
        "id": "KhS2-Nvikcub"
      },
      "source": [
        "## Data Check\n",
        "- View the first and last rows of the dataframe\n",
        "- Determine the number of entries in the dataframe\n",
        "- Check the data types for each entry\n",
        "- Check for missing values\n",
        "- Check and remove duplicate values\n",
        "- Create a statistical summary of the numerical data"
      ]
    },
    {
      "cell_type": "code",
      "execution_count": null,
      "metadata": {
        "id": "y17yzAQijvVB"
      },
      "outputs": [],
      "source": []
    },
    {
      "cell_type": "code",
      "execution_count": null,
      "metadata": {
        "id": "g9l3cvZPjxyW"
      },
      "outputs": [],
      "source": []
    },
    {
      "cell_type": "code",
      "execution_count": null,
      "metadata": {
        "id": "hiEDZdFfj0rG"
      },
      "outputs": [],
      "source": []
    },
    {
      "cell_type": "code",
      "execution_count": null,
      "metadata": {
        "id": "4kv1jW6Oj4_t"
      },
      "outputs": [],
      "source": []
    },
    {
      "cell_type": "code",
      "execution_count": null,
      "metadata": {
        "id": "GyCkqGsXkB-V"
      },
      "outputs": [],
      "source": []
    },
    {
      "cell_type": "code",
      "execution_count": null,
      "metadata": {
        "id": "6JGQpMHgkKCQ"
      },
      "outputs": [],
      "source": []
    },
    {
      "cell_type": "code",
      "execution_count": null,
      "metadata": {
        "id": "RIf-nYyYkbvG"
      },
      "outputs": [],
      "source": []
    },
    {
      "cell_type": "markdown",
      "metadata": {
        "id": "ZA0O22SLvbUF"
      },
      "source": [
        "## Question 1 - Create a dataframe containing only passengers who embarked from Southhampton"
      ]
    },
    {
      "cell_type": "code",
      "execution_count": null,
      "metadata": {
        "id": "dUM6wKCfkia0"
      },
      "outputs": [],
      "source": []
    },
    {
      "cell_type": "markdown",
      "metadata": {
        "id": "ltdVpFc7v1sv"
      },
      "source": [
        "## Question 2 - Create a dataframe containing the last 30 entries in the dataset and include only the names and cabin numbers for these passengers."
      ]
    },
    {
      "cell_type": "code",
      "execution_count": null,
      "metadata": {
        "id": "ChCHLcxHknss"
      },
      "outputs": [],
      "source": []
    },
    {
      "cell_type": "markdown",
      "metadata": {
        "id": "DIQ6fJNBos8S"
      },
      "source": [
        "## Question 3 - How many passengers travelled 1st class, 2nd class and 3rd class?"
      ]
    },
    {
      "cell_type": "code",
      "execution_count": null,
      "metadata": {
        "id": "wyvCporTlVhp"
      },
      "outputs": [],
      "source": []
    },
    {
      "cell_type": "markdown",
      "metadata": {
        "id": "Md7qWuxrmBo8"
      },
      "source": [
        "## Question 4 - What was the mean age of survivors of the Titanic? What is the sum of all the ages for the survivors?"
      ]
    },
    {
      "cell_type": "code",
      "execution_count": null,
      "metadata": {
        "id": "So3Bkfurl4a2"
      },
      "outputs": [],
      "source": []
    },
    {
      "cell_type": "markdown",
      "metadata": {
        "id": "iBZrlCLnlhVp"
      },
      "source": [
        "## Question 5 - What percentage of the passengers were women? (women/total passengers)"
      ]
    },
    {
      "cell_type": "code",
      "execution_count": null,
      "metadata": {
        "id": "Js7rZG7dmu1_"
      },
      "outputs": [],
      "source": []
    },
    {
      "cell_type": "markdown",
      "metadata": {
        "id": "Y2kk9N-Ppjq9"
      },
      "source": [
        "## Question 6: From which port did the most number of 3rd class passengers embark?"
      ]
    },
    {
      "cell_type": "code",
      "execution_count": null,
      "metadata": {
        "id": "T_jomfJ-m92l"
      },
      "outputs": [],
      "source": []
    },
    {
      "cell_type": "markdown",
      "metadata": {
        "id": "2f_e-o3Im2yz"
      },
      "source": [
        "## Question 7 - What percentage of women survived? ( female survivors / total women) And what percentage of men survived? (male survivors/ total men)"
      ]
    },
    {
      "cell_type": "code",
      "execution_count": null,
      "metadata": {
        "id": "Du3qxaHPoN9q"
      },
      "outputs": [],
      "source": []
    },
    {
      "cell_type": "markdown",
      "metadata": {
        "id": "7rK-btUyo89-"
      },
      "source": [
        "## Question 8 - Create a table displaying the survival rates(percentage) of female and male passengers traveling in 1st, 2nd, 3rd class. (number of survivors/total number of passengers in that class of a particular class)"
      ]
    },
    {
      "cell_type": "code",
      "execution_count": null,
      "metadata": {
        "id": "JFMAW0H3bRef"
      },
      "outputs": [],
      "source": []
    }
  ],
  "metadata": {
    "colab": {
      "provenance": []
    },
    "kernelspec": {
      "display_name": "Python 3",
      "name": "python3"
    },
    "language_info": {
      "codemirror_mode": {
        "name": "ipython",
        "version": 3
      },
      "file_extension": ".py",
      "mimetype": "text/x-python",
      "name": "python",
      "nbconvert_exporter": "python",
      "pygments_lexer": "ipython3",
      "version": "3.10.8"
    }
  },
  "nbformat": 4,
  "nbformat_minor": 0
}
